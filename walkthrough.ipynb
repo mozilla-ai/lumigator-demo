{
 "cells": [
  {
   "cell_type": "code",
   "execution_count": null,
   "id": "1702031d-06fc-4a41-bbdc-821f665a9147",
   "metadata": {},
   "outputs": [],
   "source": [
    "%pip install -r requirements.txt"
   ]
  },
  {
   "cell_type": "code",
   "execution_count": null,
   "id": "8237ee62-33d1-480d-864f-03f70537c668",
   "metadata": {},
   "outputs": [],
   "source": [
    "from datasets import load_dataset"
   ]
  },
  {
   "cell_type": "code",
   "execution_count": null,
   "id": "8458cf09-f2fa-41c9-9982-47b558167d67",
   "metadata": {},
   "outputs": [],
   "source": [
    "dataset='knkarthick/dialogsum'\n",
    "ds = load_dataset(dataset, split='validation')\n",
    "\n",
    "# show what the dataset looks like\n",
    "ds.to_pandas()"
   ]
  },
  {
   "cell_type": "code",
   "execution_count": null,
   "id": "1e3e6a2d-00cd-4c87-acfa-c100dd5cb268",
   "metadata": {},
   "outputs": [],
   "source": []
  }
 ],
 "metadata": {
  "kernelspec": {
   "display_name": "Python 3 (ipykernel)",
   "language": "python",
   "name": "python3"
  },
  "language_info": {
   "codemirror_mode": {
    "name": "ipython",
    "version": 3
   },
   "file_extension": ".py",
   "mimetype": "text/x-python",
   "name": "python",
   "nbconvert_exporter": "python",
   "pygments_lexer": "ipython3",
   "version": "3.11.9"
  }
 },
 "nbformat": 4,
 "nbformat_minor": 5
}
